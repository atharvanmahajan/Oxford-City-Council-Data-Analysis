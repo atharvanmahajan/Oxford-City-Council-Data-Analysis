{
 "cells": [
  {
   "cell_type": "code",
   "execution_count": 31,
   "id": "c79e44f4",
   "metadata": {},
   "outputs": [],
   "source": [
    "# importing packages for data handling\n",
    "import pandas as pd\n",
    "import numpy as np\n",
    "import scipy.stats as st \n",
    "import matplotlib.pyplot as plt\n",
    "from collections import defaultdict"
   ]
  },
  {
   "cell_type": "code",
   "execution_count": 32,
   "id": "727642f4",
   "metadata": {},
   "outputs": [],
   "source": [
    "performance_2018 = {'ASB': [95.7, 91.6, 92.1, 89.7, 86.4, 90.1, 89.7, 85.3, 82.2, 90.4, 86.5, 84.9]\n",
    "                   ,'Housing Benefit': [92.4, 92.8, 94.0, 91.6, 93.8, 92.0, 89.1, 88.9, 93.3, 92.0, 93.3, 92.7]\n",
    "                   ,'Universal Credit': [90.6, 91.5, 89.1, 88.4, 90.3, 94.7, 87.9, 82.3, 92.9, 88.9, 93.5, 89.2]\n",
    "                   ,'Business Days': [92.2, 94.8, 94.2, 91.4, 95.4, 88.1, 84.5, 92.1, 97.6, 94.1, 90.4, 92.2]\n",
    "                   ,'Council Tax': [94.5, 94.7, 94.6, 92.1, 94.8, 91.2, 92.0, 91.3, 94.1, 92.9, 92.9, 92.8]\n",
    "                   ,'Elections': [95.8, 95.4, 94.1, 89.1, 92.6, 91.1, 93.2, 90.0, 90.6, 89.0, 83.9, 89.8]\n",
    "                   ,'Housing Needs': [91.5, 87.2, 90.3, 86.9, 85.9, 86.6, 91.6, 93.0, 91.8, 92.5]\n",
    "                   ,'Pests and Dogs': [95.8, 96.0, 95.0, 96.3, 96.4, 97.4, 97.1, 95.2, 95.0, 95.2, 95.2, 94.3]\n",
    "                   ,'Planning': [92.0, 93.2, 92.3, 88.2, 93.6, 89.2, 94.0, 91.1, 95.6, 94.1, 94.7, 94.3]\n",
    "                   ,'Building Control': [86.4, 87.3, 89.2, 87.9, 89.5, 86.3, 86.1, 86.7, 91.8, 92.2, 91.7, 90.9]\n",
    "                   ,'Rent': [97.4, 94.3, 94.1, 91.5, 95.5, 91.6, 90.5, 90.4, 92.3, 91.0, 94.2, 96.5]\n",
    "                   ,'Repairs': [96.3, 96.7, 95.4, 94.7, 95.0, 94.8, 94.6, 93.9, 94.9, 94.9, 96.3, 96.0]\n",
    "                   ,'Gas': [96.0, 94.6, 94.9, 92.7, 95.3, 93.4, 93.1, 94.1, 96.0, 96.4, 96.4, 96.4]\n",
    "                   ,'Street Services': [97.6, 96.3, 95.4, 94.6, 97.1, 96.7, 95.6, 95.9, 95.8, 93.8, 95.6, 95.8]\n",
    "                   ,'Missed Bin Ballouts': [96.0, 97.0, 95.3, 94.7, 97.5, 95.2, 86.1, 92.5, 92.9, 92.6, 89.4, 95.4]\n",
    "                   ,'Tenancy': [96.1, 95.0, 94.1, 92.1, 92.0, 91.1, 89.4, 88.6, 91.3, 89.3, 90.9, 90.1]\n",
    "                   ,'General Eng': [94.2, 92.2, 90.5, 90.4, 91.5, 93.3, 91.5, 93.3, 93.2, 90.1, 89.4, 92.7]\n",
    "                   ,'Vulerable Residents': []}"
   ]
  },
  {
   "cell_type": "code",
   "execution_count": 33,
   "id": "c8b4451d",
   "metadata": {},
   "outputs": [],
   "source": [
    "performance_2019 = {'ASB': [86.9, 85.1, 92.9, 93.4, 97.4, 97.6, 97.2, 97.4, 92.6, 95.3, 93.9, 94.6]\n",
    "                   ,'Housing Benefit': [87.6, 91.1, 92.8, 91.7, 94.0, 95.8, 92.9, 94.0, 94.2, 92.9, 93.0, 93.2]\n",
    "                   ,'Universal Credit': [88.6,88.0, 98.0, 90.0, 95.8, 92.8, 93.8, 100.0, 87.7, 98.5, 93.9, 97.1]\n",
    "                   ,'Business Days': [87.6, 89.3, 95.5, 95.2, 93.3, 94.7, 94.5, 98.8, 96.2, 93.1, 92.7, 96.5]\n",
    "                   ,'Council Tax': [90.5, 94.6, 93.9, 92.4, 95.9, 95.3, 95.2, 96.5, 96.7, 98.2, 98.0, 95.9]\n",
    "                   ,'Elections': [78.1, 86.8, 85.0, 87.5, 94.6, 93.8, 99.3, 96.4, 97.2, 95.1, 92.0, 91.2]\n",
    "                   ,'Housing Needs': [89.8, 90.2, 87.4, 87.4, 93.9, 92.9, 91.5, 94.1, 93.6, 96.3, 94.7, 89.7]\n",
    "                   ,'Pests and Dogs': [93.8, 91.7, 94.0, 92.8, 94.4, 94.1, 93.4, 94.9, 93.9, 97.0, 96.3, 93.8]\n",
    "                   ,'Planning': [94.0, 94.2, 94.2, 90.7, 93.0, 91.0, 95.4, 93.6, 95.7, 97.1, 96.8, 95.0]\n",
    "                   ,'Building Control': [91.2, 91.2, 90.9, 88.3, 90.8, 91.5, 92.1, 91.0, 95.7, 94.7, 93.3, 92.4]\n",
    "                   ,'Rent': [92.9, 95.5, 92.0, 90.0, 97.8, 97.2, 95.3, 95.5, 95.0, 97.6, 96.4, 93.2]\n",
    "                   ,'Repairs': [91.3, 94.0, 93.9, 92.4, 94.6, 93.3, 93.9, 94.4, 95.7, 97.3, 96.6, 94.7]\n",
    "                   ,'Gas': [94.9, 93.5, 94.6, 92.1, 92.2, 90.7, 94.6, 97.1, 95.2, 98.0, 96.1, 94.4]\n",
    "                   ,'Street Services': [93.8, 95.7, 96.1, 93.5, 94.5, 94.8, 95.7, 94.4, 94.5, 96.1, 96.6, 98.0]\n",
    "                   ,'Missed Bin Ballouts': [94.6, 94.2, 97.5, 96.8, 97.8, 96.7, 98.1, 97.1, 99.0, 97.9, 97.0, 98.1]\n",
    "                   ,'Tenancy': [82.2, 90.1, 95.9, 95.8, 95.8, 91.4, 93.9, 93.5, 94.8, 96.5, 95.3, 94.4]\n",
    "                   ,'General Eng': [91.9, 92.7, 90.0, 93.2, 93.5, 94.0, 95.6, 96.6, 95.5, 95.9, 96.6, 96.0]\n",
    "                   ,'Vulerable Residents': []}"
   ]
  },
  {
   "cell_type": "code",
   "execution_count": 34,
   "id": "0f87167e",
   "metadata": {},
   "outputs": [],
   "source": [
    "performance_2021 = {'ASB': [89.0, 92.8, 81.0, 85.6, 93.9, 95.0, 96.2, 87.5, 92.5, 93.3, 87.0, 85.4]\n",
    "                   ,'Housing Benefit': [91.8, 90.9, 86.6, 88.8, 86.7, 89.8, 86.2, 83.6, 92.3, 94.2, 97.2, 91.5]\n",
    "                   ,'Universal Credit': [80.0, 85.2, 80.4, 79.6, 70.4, 92.9, 81.3, 75.9, 83.1, 82.0, 96.9, 83.9]\n",
    "                   ,'Business Days': [91.2, 89.0, 85.9, 85.9, 81.6, 96.8, 93.7, 91.6, 93.6, 92.2, 93.4, 95.3]\n",
    "                   ,'Council Tax': [90.9, 89.2, 86.0, 88.6, 87.2, 92.4, 81.9, 81.1, 88.9, 84.9, 92.5, 87.5]\n",
    "                   ,'Elections': [90.6, 87.5, 76.1, 72.8, 78.7, 91.7, 93.8, 90.9, 87.0, 84.5, 87.5, 84.5]\n",
    "                   ,'Housing Needs': [88.6, 90.7, 91.1, 91.1, 92.3, 93.4, 91.2, 87.3, 89.9, 82.8, 89.0, 90.0]\n",
    "                   ,'Pests and Dogs': [91.2, 90.8, 88.8, 88.4, 91.0, 93.8, 87.7, 92.1, 93.2, 89.9, 93.4, 87.6]\n",
    "                   ,'Planning': [85.9, 81.0 ,77.0 ,77.6, 78.4, 88.6, 81.4, 75.2, 83.4, 83.3, 89.4, 91.4]\n",
    "                   ,'Building Control': [90.3, 88.7, 85.4, 93.2, 94.3, 95.4, 92.5, 93.6, 92.7, 89.9, 91.6, 92.9]\n",
    "                   ,'Rent': [84.4, 86.1, 86.3, 83.3, 86.8, 90.5, 88.5, 86.1, 86.4, 86.9, 91.0, 92.0]\n",
    "                   ,'Repairs': [92.4, 89.9, 86.0, 85.2, 88.7, 91.7, 84.7, 84.8, 91.5, 90.3, 91.3, 92.6]\n",
    "                   ,'Gas': [90.2, 86.2, 90.9, 87.3, 89.2, 89.3, 86.8, 86.5, 91.6, 88.1, 94.3, 90.5]\n",
    "                   ,'Street Services': [94.9, 94.6, 92.9, 89.5, 88.4, 97.0, 95.8, 93.1, 93.8, 92.7, 93.6, 92.9]\n",
    "                   ,'Missed Bin Ballouts': [94.4, 95.0, 93.1, 90.7, 93.1, 97.4, 97.1, 95.6, 92.1, 95.7, 97.9, 95.9]\n",
    "                   ,'Tenancy': [86.2, 84.2, 82.6, 85.3, 85.1, 90.1, 82.7, 77.6, 90.9, 86.6, 88.3, 82.9]\n",
    "                   ,'General Eng': [93.2, 94.6, 91.6, 91.3, 92.3, 94.4, 92.9, 93.4, 92.2, 92.3, 93.8, 94.2]\n",
    "                   ,'Vulerable Residents': [74.8, 73.9, 65.0, 75.2, 75.5, 83.6, 76.0, 68.1, 80.9, 73.7, 75.7, 87.0]}"
   ]
  },
  {
   "cell_type": "code",
   "execution_count": 65,
   "id": "86d133f3",
   "metadata": {},
   "outputs": [],
   "source": [
    "performance_2022 = {'ASB': [76.1, 86.9, 90.3, 92.2, 89.6, 92.9, 97.4, 93.6, 90.7, 91.5, 97.3, 97.3]\n",
    "                   ,'Housing Benefit': [89.5, 90.3, 86.0, 79.2, 79.2, 85.8, 85.1, 90.8, 87.6, 84.1, 92.6, 89.0]\n",
    "                   ,'Universal Credit': [79.8, 61.5, 71.7, 67.6, 66.7, 75.8, 82.1, 79.3, 92.9, 95.8, 95.5, 87.0]\n",
    "                   ,'Business Days': [93.9, 94.1, 90.0, 78.2, 83.1, 83.1, 83.4, 89.5, 97.1, 93.2, 91.4, 96.6]\n",
    "                   ,'Council Tax': [84.4, 79.6, 87.5, 82.5, 82.5, 85.4, 88.7, 90.3, 88.0, 85.5, 89.6, 77.9]\n",
    "                   ,'Elections': [83.6, 89.1, 81.4, 76.0, 85.7, 95.4, 94.4, 98.3, 97.6, 93.8, 95.5, 92.9]\n",
    "                   ,'Housing Needs': [80.7, 73.5, 84.5, 77.8, 79.7, 80.5, 82.9, 91.2, 87.6, 86.7, 84.9, 77.4]\n",
    "                   ,'Pests and Dogs': [82.3, 75.7, 83.3, 86.8, 90.1, 87.5, 85.2, 90.2, 87.9, 90.1, 88.3, 84.2]\n",
    "                   ,'Planning': [85.7, 84.6, 88.7, 76.9, 78.3, 83.7, 89.6, 91.7, 83.4, 81.5, 89.8, 82.9]\n",
    "                   ,'Building Control': [92.1, 92.1, 94.2, 91.1, 90.9, 92.6, 93.7, 94.2, 89.7, 92.4, 91.7, 92.6]\n",
    "                   ,'Rent': [82.1, 77.0 ,82.9, 80.1, 82.0, 85.2, 87.1, 87.0, 82.6, 82.0, 93.3, 87.8]\n",
    "                   ,'Repairs': [90.8, 89.7, 90.7, 89.5, 90.1, 89.2, 91.3, 94.1, 91.5, 93.4, 95.1, 93.5]\n",
    "                   ,'Gas': [95.0, 85.9, 91.8, 93.4, 94.1, 91.9, 93.6, 91.9, 75.3, 86.0, 94.8, 92.8]\n",
    "                   ,'Street Services': [90.8, 91.4, 92.8, 87.1, 89.9, 95.0, 95.9, 96.5, 94.2, 86.5, 94.0, 86.2]\n",
    "                   ,'Missed Bin Ballouts': [91.6, 91.3, 94.1, 84.4, 88.3, 93.9, 97.0, 96.8, 94.7, 87.3, 97.9, 88.6]\n",
    "                   ,'Tenancy': [75.7, 76.0, 87.4, 70.2, 75.7, 74.6, 80.0, 87.0, 83.6, 78.5, 92.5, 88.7]\n",
    "                   ,'General Eng': [90.3, 89.2, 93.6, 91.1, 91.3, 93.9, 94.9, 95.8, 94.3, 90.9, 94.9, 93.0]\n",
    "                   ,'Vulerable Residents': [66.7, 69.4, 79.4, 83.9, 81.3, 87.1, 89.6, 91.8, 90.8, 87.4, 88.8, 86.1]}"
   ]
  },
  {
   "cell_type": "code",
   "execution_count": 66,
   "id": "3df9a510",
   "metadata": {},
   "outputs": [],
   "source": [
    "performance_2023 = {'ASB': [83.9, 84.6, 77.9, 80.1, 76.3, 70.7]\n",
    "                   ,'Housing Benefit': [86.1, 86.9, 86.0, 83.8, 82.0, 75.1]\n",
    "                   ,'Universal Credit': [87.8, 76.7, 78.0, 64.5, 59.2, 53.2]\n",
    "                   ,'Business Days': [82.9, 84.9, 81.6, 74.0, 61.3, 76.6]\n",
    "                   ,'Council Tax': [80.0, 87.0, 88.8, 77.2, 70.4, 63.3]\n",
    "                   ,'Elections': [77.5, 78.7, 86.7, 83.5, 61.5, 85.2]\n",
    "                   ,'Housing Needs': [83.1, 86.4, 83.0, 86.0, 81.6, 78.9]\n",
    "                   ,'Pests and Dogs': [80.4, 74.1, 81.5, 91.1, 91.0, 79.8]\n",
    "                   ,'Planning': [67.3, 80.6, 89.9, 79.6, 71.2, 72.5]\n",
    "                   ,'Building Control': [90.0, 94.7, 94.2, 92.3, 87.8, 88.6]\n",
    "                   ,'Rent': [77.6, 78.3, 81.1, 76.2, 66.7, 60.9]\n",
    "                   ,'Repairs': [92.8, 94.7, 92.4, 90.9, 90.8, 90.9]\n",
    "                   ,'Gas': [95.2, 92.7, 94.1, 92.1, 92.8, 89.6]\n",
    "                   ,'Street Services': [79.6, 92.0, 92.1, 89.4, 89.8, 86.7]\n",
    "                   ,'Missed Bin Ballouts': [81.7, 90.1, 86.1, 85.3, 97.0, 93.0]\n",
    "                   ,'Tenancy': [76.8, 84.1, 81.1, 75.7, 73.8, 75.1]\n",
    "                   ,'General Eng': [87.4, 93.8, 92.4, 90.1, 84.0, 83.9]\n",
    "                   ,'Vulerable Residents': [79.5, 83.5, 83.6, 83.6, 79.4, 70.8]}"
   ]
  },
  {
   "cell_type": "code",
   "execution_count": 67,
   "id": "04c55ca9",
   "metadata": {},
   "outputs": [],
   "source": [
    "index_SIP = 7\n",
    "count = 0"
   ]
  },
  {
   "cell_type": "code",
   "execution_count": 68,
   "id": "c3fd5189",
   "metadata": {},
   "outputs": [
    {
     "name": "stdout",
     "output_type": "stream",
     "text": [
      "ASB: 5.86%\n",
      "Housing Benefit: 0.42%\n",
      "Universal Credit: 7.98%\n",
      "Business Days: 3.12%\n",
      "Council Tax: 0.32%\n",
      "Elections: 24.79%\n",
      "Housing Needs: 0.3%\n",
      "Pests and Dogs: 0.15%\n",
      "Planning: 0.44%\n",
      "Building Control: 75.76%\n",
      "Rent: 0.15%\n",
      "Repairs: 65.17%\n",
      "Gas: 13.06%\n",
      "Street Services: 0.5%\n",
      "Missed Bin Ballouts: 2.29%\n",
      "Tenancy: 0.4%\n",
      "General Eng: 8.19%\n",
      "Vulerable Residents: 86.82%\n"
     ]
    }
   ],
   "source": [
    "for column in performance_2023.keys():\n",
    "    count += 1\n",
    "    A = performance_2018[column] + performance_2019[column] + performance_2021[column] + performance_2022[column][:index_SIP]\n",
    "    B = performance_2022[column][index_SIP:] + performance_2023[column]\n",
    "    t_val, p_val = st.ttest_ind(A, B, equal_var = False, alternative = 'less')\n",
    "    print(column + ': ' + str(round((1 - p_val)*100, 2)) + '%')"
   ]
  },
  {
   "cell_type": "code",
   "execution_count": 61,
   "id": "ac8082a4",
   "metadata": {},
   "outputs": [
    {
     "name": "stdout",
     "output_type": "stream",
     "text": [
      "2.400737105057958e-05\n"
     ]
    },
    {
     "name": "stderr",
     "output_type": "stream",
     "text": [
      "/var/folders/6q/_skb6gvs4b51jr_z4v90tvt40000gn/T/ipykernel_39338/3562942892.py:4: RuntimeWarning: Precision loss occurred in moment calculation due to catastrophic cancellation. This occurs when the data are nearly identical. Results may be unreliable.\n",
      "  print(100*st.ttest_ind(A, B, equal_var = False, alternative = 'less')[1])\n"
     ]
    }
   ],
   "source": [
    "A = performance_2018['ASB']\n",
    "B = [100]*12\n",
    "\n",
    "print(100*st.ttest_ind(A, B, equal_var = False, alternative = 'less')[1])"
   ]
  },
  {
   "cell_type": "code",
   "execution_count": 64,
   "id": "f358601c",
   "metadata": {},
   "outputs": [
    {
     "name": "stdout",
     "output_type": "stream",
     "text": [
      "18\n"
     ]
    }
   ],
   "source": [
    "print(count)"
   ]
  },
  {
   "cell_type": "code",
   "execution_count": null,
   "id": "2dafcad7",
   "metadata": {},
   "outputs": [],
   "source": []
  }
 ],
 "metadata": {
  "kernelspec": {
   "display_name": "Python 3 (ipykernel)",
   "language": "python",
   "name": "python3"
  },
  "language_info": {
   "codemirror_mode": {
    "name": "ipython",
    "version": 3
   },
   "file_extension": ".py",
   "mimetype": "text/x-python",
   "name": "python",
   "nbconvert_exporter": "python",
   "pygments_lexer": "ipython3",
   "version": "3.10.9"
  }
 },
 "nbformat": 4,
 "nbformat_minor": 5
}
